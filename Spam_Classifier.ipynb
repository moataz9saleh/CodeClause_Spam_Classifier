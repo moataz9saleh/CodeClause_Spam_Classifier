{
  "nbformat": 4,
  "nbformat_minor": 0,
  "metadata": {
    "colab": {
      "provenance": [],
      "mount_file_id": "1tzaSGVnZXgU2-3peDd6NiYy8_Ht4Z4bj",
      "authorship_tag": "ABX9TyMGFHyo6eOyMM6woSEOtY7U",
      "include_colab_link": true
    },
    "kernelspec": {
      "name": "python3",
      "display_name": "Python 3"
    },
    "language_info": {
      "name": "python"
    }
  },
  "cells": [
    {
      "cell_type": "markdown",
      "metadata": {
        "id": "view-in-github",
        "colab_type": "text"
      },
      "source": [
        "<a href=\"https://colab.research.google.com/github/moataz9saleh/CodeClause_Spam_Classifier/blob/main/Spam_Classifier.ipynb\" target=\"_parent\"><img src=\"https://colab.research.google.com/assets/colab-badge.svg\" alt=\"Open In Colab\"/></a>"
      ]
    },
    {
      "cell_type": "code",
      "execution_count": 1,
      "metadata": {
        "id": "P76oFVyXlrkb"
      },
      "outputs": [],
      "source": [
        "import pandas as pd\n",
        "from google.colab import drive\n",
        "from sklearn.model_selection import train_test_split\n",
        "from sklearn.feature_extraction.text import TfidfVectorizer\n",
        "from sklearn.naive_bayes import MultinomialNB\n",
        "from sklearn.metrics import confusion_matrix\n",
        "from sklearn.metrics import classification_report"
      ]
    },
    {
      "cell_type": "code",
      "source": [
        "drive.mount('/content/drive')"
      ],
      "metadata": {
        "colab": {
          "base_uri": "https://localhost:8080/"
        },
        "id": "8AYscxI8mDiV",
        "outputId": "58404d5b-2b19-48f5-cb53-aa29e96df1c8"
      },
      "execution_count": 2,
      "outputs": [
        {
          "output_type": "stream",
          "name": "stdout",
          "text": [
            "Drive already mounted at /content/drive; to attempt to forcibly remount, call drive.mount(\"/content/drive\", force_remount=True).\n"
          ]
        }
      ]
    },
    {
      "cell_type": "code",
      "source": [
        "df =pd.read_csv(\"drive/My Drive/spam.csv\", encoding='latin-1')\n",
        "df.rename(columns = {'v1':'class_label', 'v2':'message'}, inplace = True)\n",
        "df.drop(['Unnamed: 2', 'Unnamed: 3', 'Unnamed: 4'], axis = 1, inplace = True)"
      ],
      "metadata": {
        "id": "LkXHpXJrnJC_"
      },
      "execution_count": 3,
      "outputs": []
    },
    {
      "cell_type": "code",
      "source": [
        "df['class_label'].value_counts()"
      ],
      "metadata": {
        "colab": {
          "base_uri": "https://localhost:8080/"
        },
        "id": "geuthpEzuH8h",
        "outputId": "5e1b60b3-c987-491e-f605-15f86c153bea"
      },
      "execution_count": 4,
      "outputs": [
        {
          "output_type": "execute_result",
          "data": {
            "text/plain": [
              "ham     4825\n",
              "spam     747\n",
              "Name: class_label, dtype: int64"
            ]
          },
          "metadata": {},
          "execution_count": 4
        }
      ]
    },
    {
      "cell_type": "code",
      "source": [
        "df['class_label'] = df['class_label'].apply(lambda x: 1 if x == 'spam' else 0)"
      ],
      "metadata": {
        "id": "kWzXR5YiwulU"
      },
      "execution_count": 5,
      "outputs": []
    },
    {
      "cell_type": "code",
      "source": [
        "x_train, x_test, y_train, y_test = train_test_split(df['message'], df['class_label'], test_size = 0.3, random_state = 127)"
      ],
      "metadata": {
        "id": "akQIM32MxnKZ"
      },
      "execution_count": 6,
      "outputs": []
    },
    {
      "cell_type": "code",
      "source": [
        "print('rows in test set: ' + str(x_test.shape))\n",
        "print('rows in train set: ' + str(x_train.shape))"
      ],
      "metadata": {
        "colab": {
          "base_uri": "https://localhost:8080/"
        },
        "id": "30P9I2j1x2yy",
        "outputId": "1b71b9d9-0733-4877-e309-64cf03e75497"
      },
      "execution_count": 7,
      "outputs": [
        {
          "output_type": "stream",
          "name": "stdout",
          "text": [
            "rows in test set: (1672,)\n",
            "rows in train set: (3900,)\n"
          ]
        }
      ]
    },
    {
      "cell_type": "code",
      "source": [
        "train_list = x_train.tolist()\n",
        "vectorizer = TfidfVectorizer(input= train_list ,lowercase=True,)\n",
        "train_features = vectorizer.fit_transform(x_train) \n",
        "test_features  = vectorizer.transform(x_test) "
      ],
      "metadata": {
        "id": "hjH9rdIxx4Fp"
      },
      "execution_count": 8,
      "outputs": []
    },
    {
      "cell_type": "code",
      "source": [
        "classifier = MultinomialNB()\n",
        "classifier.fit(train_features, y_train)"
      ],
      "metadata": {
        "colab": {
          "base_uri": "https://localhost:8080/"
        },
        "id": "mkwUTXfj0XPp",
        "outputId": "75137250-cad0-4ff0-af7b-9930ff8f7ecc"
      },
      "execution_count": 9,
      "outputs": [
        {
          "output_type": "execute_result",
          "data": {
            "text/plain": [
              "MultinomialNB()"
            ]
          },
          "metadata": {},
          "execution_count": 9
        }
      ]
    },
    {
      "cell_type": "code",
      "source": [
        "print(\"classifier accuracy {:.2f}%\".format(classifier.score(test_features, y_test) * 100))"
      ],
      "metadata": {
        "colab": {
          "base_uri": "https://localhost:8080/"
        },
        "id": "73YIUjK80dia",
        "outputId": "88a7c5d0-c985-4c76-fcdf-8e1da8e9f63e"
      },
      "execution_count": 10,
      "outputs": [
        {
          "output_type": "stream",
          "name": "stdout",
          "text": [
            "classifier accuracy 95.33%\n"
          ]
        }
      ]
    },
    {
      "cell_type": "code",
      "source": [
        "labels = classifier.predict(test_features)\n",
        "actual = y_test.tolist()\n",
        "predicted = labels\n",
        "results = confusion_matrix(actual, predicted)\n",
        "print('Confusion Matrix :')\n",
        "print ('Report : ')\n",
        "print (classification_report(actual, predicted) )\n"
      ],
      "metadata": {
        "colab": {
          "base_uri": "https://localhost:8080/"
        },
        "id": "LGdla2NC1KsT",
        "outputId": "1dcc6856-f53d-4051-c614-d7aa38878cd6"
      },
      "execution_count": 11,
      "outputs": [
        {
          "output_type": "stream",
          "name": "stdout",
          "text": [
            "Confusion Matrix :\n",
            "Report : \n",
            "              precision    recall  f1-score   support\n",
            "\n",
            "           0       0.95      1.00      0.97      1442\n",
            "           1       1.00      0.66      0.80       230\n",
            "\n",
            "    accuracy                           0.95      1672\n",
            "   macro avg       0.97      0.83      0.88      1672\n",
            "weighted avg       0.96      0.95      0.95      1672\n",
            "\n"
          ]
        }
      ]
    }
  ]
}